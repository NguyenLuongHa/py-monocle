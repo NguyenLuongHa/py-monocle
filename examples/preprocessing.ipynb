{
 "cells": [
  {
   "cell_type": "markdown",
   "metadata": {},
   "source": [
    "## Preparing data for monocle3"
   ]
  },
  {
   "cell_type": "code",
   "execution_count": 1,
   "metadata": {},
   "outputs": [],
   "source": [
    "import os\n",
    "import h5py\n",
    "import scanpy as sc\n",
    "from scipy import sparse"
   ]
  },
  {
   "cell_type": "code",
   "execution_count": 2,
   "metadata": {},
   "outputs": [],
   "source": [
    "ROOT_DIR = os.path.abspath(\"\")\n",
    "RAW_PATH = os.path.join(ROOT_DIR, \"data\", \"raw_data.h5\")\n",
    "DATA_PATH = os.path.join(ROOT_DIR, \"data\", \"processed_data.h5\")"
   ]
  },
  {
   "cell_type": "code",
   "execution_count": 3,
   "metadata": {},
   "outputs": [],
   "source": [
    "adata = sc.datasets.pbmc68k_reduced()\n",
    "adata.X = sparse.csr_matrix(adata.X)"
   ]
  },
  {
   "cell_type": "markdown",
   "metadata": {},
   "source": [
    "#### Writing data"
   ]
  },
  {
   "cell_type": "code",
   "execution_count": 4,
   "metadata": {},
   "outputs": [],
   "source": [
    "with h5py.File(DATA_PATH, \"w\") as f:\n",
    "  # Write expression matrix\n",
    "  exp_matrix = f.create_group(\"expression_matrix\")\n",
    "  exp_matrix.create_dataset(\"barcodes\", data=adata.obs_names.to_numpy())\n",
    "  exp_matrix.create_dataset(\"features\", data=adata.var_names.to_numpy())\n",
    "  exp_matrix.create_dataset(\"data\", data=adata.X.data)\n",
    "  exp_matrix.create_dataset(\"indices\", data=adata.X.indices)\n",
    "  exp_matrix.create_dataset(\"indptr\", data=adata.X.indptr)\n",
    "\n",
    "  # Write UMAP and Louvain clustering\n",
    "  f.create_dataset(\"UMAP\", data=adata.obsm[\"X_umap\"])\n",
    "  f.create_dataset(\"Louvain\", data=adata.obs[\"louvain\"].to_numpy(dtype=int))"
   ]
  }
 ],
 "metadata": {
  "kernelspec": {
   "display_name": "Python 3",
   "language": "python",
   "name": "python3"
  },
  "language_info": {
   "codemirror_mode": {
    "name": "ipython",
    "version": 3
   },
   "file_extension": ".py",
   "mimetype": "text/x-python",
   "name": "python",
   "nbconvert_exporter": "python",
   "pygments_lexer": "ipython3",
   "version": "3.10.12"
  }
 },
 "nbformat": 4,
 "nbformat_minor": 2
}
